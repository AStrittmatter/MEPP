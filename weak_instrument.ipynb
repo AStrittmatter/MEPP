{
 "cells": [
  {
   "cell_type": "markdown",
   "metadata": {},
   "source": [
    "# **Bootstrapping**"
   ]
  },
  {
   "cell_type": "markdown",
   "metadata": {},
   "source": [
    "**Author:**\n",
    "[Anthony Strittmatter](http://www.anthonystrittmatter.com)"
   ]
  },
  {
   "cell_type": "markdown",
   "metadata": {},
   "source": [
    "In the following, we use a Monte-Carlo simulation to illustrate the use of bootstrapping to calculate standard errors of estimators. Monte-Carlo simulations generate artificial random data. Because the data is artificial, we have control over the data generating process (DGP). Accordingly, we know the true underlying data model. "
   ]
  },
  {
   "cell_type": "markdown",
   "metadata": {},
   "source": [
    "## Load Packages"
   ]
  },
  {
   "cell_type": "code",
   "execution_count": 2,
   "metadata": {},
   "outputs": [
    {
     "name": "stdout",
     "output_type": "stream",
     "text": [
      "[1] \"All packages successfully installed and loaded.\"\n"
     ]
    }
   ],
   "source": [
    "########################  Load Packages  ########################\n",
    "\n",
    "# Load packages\n",
    "library(MASS)\n",
    "\n",
    "print('All packages successfully installed and loaded.')"
   ]
  },
  {
   "cell_type": "markdown",
   "metadata": {},
   "source": [
    "## Data Generating Process (DGP)"
   ]
  },
  {
   "cell_type": "markdown",
   "metadata": {},
   "source": [
    "### Select Parameters for DGP"
   ]
  },
  {
   "cell_type": "code",
   "execution_count": 3,
   "metadata": {},
   "outputs": [
    {
     "name": "stdout",
     "output_type": "stream",
     "text": [
      "[1] \"Tuning parameters selected.\"\n"
     ]
    }
   ],
   "source": [
    "########################  Tuning Parameter Selection  ########################\n",
    "\n",
    "N = 1000 # Select sample size\n",
    "replications = 1000 # Select number of replications\n",
    "mu <- cbind(0,0) # Select expected value of potential outcomes; \n",
    "# here expected value of both potential outcomes is zero, such that the true effect is zero\n",
    "vcm = diag(2) # Select variance covariance matrix; here just identity matrix\n",
    "\n",
    "print('Tuning parameters selected.')"
   ]
  },
  {
   "cell_type": "markdown",
   "metadata": {},
   "source": [
    "### Generate Data"
   ]
  },
  {
   "cell_type": "markdown",
   "metadata": {},
   "source": [
    "We simulate the two potential outcomes $Y^1$ and $Y^0$ from a multivariate normal distribution. We indicate the binary treatment variable by $D$. For simplicity, we simulate random treatment assigment, such that no additional control variables are required to identify the ATE. Furthermore, we fix the share of treated to be exactly 50%. We generate the observed outcome using the observational rule $Y = D\\cdot Y^1 + (1-D) \\cdot Y^0$. In reality, we would only observe $(Y,D)$ and *not* $(Y^1,Y^0)$."
   ]
  },
  {
   "cell_type": "code",
   "execution_count": 4,
   "metadata": {},
   "outputs": [
    {
     "name": "stdout",
     "output_type": "stream",
     "text": [
      "[1] \"Data is generated.\"\n"
     ]
    }
   ],
   "source": [
    "########################  Generate the Simulated Data  ########################\n",
    "\n",
    "set.seed(123456789) # Set starting value for random number generator\n",
    "\n",
    "# Potential outcomes\n",
    "potential_outcomes <- mvrnorm(n = N, mu, vcm)\n",
    "colnames(potential_outcomes) <-  c(\"Y1\",\"Y0\")\n",
    "# The potential outcomes would be (partly) unobserved in reality\n",
    "\n",
    "# Generate treatment dummy\n",
    "u <- rnorm(n=N)\n",
    "D <- matrix(0, nrow=N, ncol =1)\n",
    "D[u>median(u),] <-1\n",
    "# We make sure that exactly 50% of the sample are treated \n",
    "\n",
    "# Observed outcome\n",
    "Y <- D*potential_outcomes[,1] + (1-D)*potential_outcomes[,2] # Observational rule\n",
    "\n",
    "# We would observe the following data in reality\n",
    "observed_data <- cbind(Y,D)\n",
    "colnames(observed_data) <-  c(\"Y\",\"D\")\n",
    "\n",
    "print('Data is generated.')"
   ]
  },
  {
   "cell_type": "markdown",
   "metadata": {},
   "source": [
    "## True Average Treatment Effects (ATE)"
   ]
  },
  {
   "cell_type": "markdown",
   "metadata": {},
   "source": [
    "We know the true ATE and true standard errors of the ATE from the DGP. In reality, they would not be observed. We can only observe them because we simulated the data."
   ]
  },
  {
   "cell_type": "code",
   "execution_count": 5,
   "metadata": {},
   "outputs": [
    {
     "name": "stdout",
     "output_type": "stream",
     "text": [
      "[1] \"True ATE: 0\"\n",
      "[1] \"True Standard Error: 0.063\"\n"
     ]
    }
   ],
   "source": [
    "########################  True Effects  ########################\n",
    "\n",
    "print(paste0(\"True ATE: \", round(mu[,1] - mu[,2], digits=3)))\n",
    "print(paste0(\"True Standard Error: \", round(sqrt((vcm[1,1] + vcm[2,2]))/sqrt(sum(D)), digits=3)))"
   ]
  },
  {
   "cell_type": "markdown",
   "metadata": {},
   "source": [
    "## Estimated Effects"
   ]
  },
  {
   "cell_type": "markdown",
   "metadata": {},
   "source": [
    "We can use the naive estimater for ATE, because the treatment $D$ is randomised in this simulation."
   ]
  },
  {
   "cell_type": "code",
   "execution_count": 6,
   "metadata": {},
   "outputs": [
    {
     "name": "stdout",
     "output_type": "stream",
     "text": [
      "[1] \"True ATE: 0\"\n",
      "[1] \"Estimated ATE: 0.013\"\n"
     ]
    }
   ],
   "source": [
    "########################  Estimated ATE  ########################\n",
    "\n",
    "delta <- mean(Y[D==1]) - mean(Y[D==0]) # naive estimator\n",
    "\n",
    "print(paste0(\"True ATE: \", round(mu[,1] - mu[,2], digits=3)))\n",
    "print(paste0(\"Estimated ATE: \", round(delta, digits=3)))"
   ]
  },
  {
   "cell_type": "markdown",
   "metadata": {},
   "source": [
    "## Bootstrapping"
   ]
  },
  {
   "cell_type": "markdown",
   "metadata": {},
   "source": [
    "Now we use a non-parametric bootstrapping aproach to calculate the standard errors of the estimated ATE. First, we have to draw bootstrap samples of size $N$ with replacement. For this purpose, we can use the *sample()* function. Let us test this function with $N=10$."
   ]
  },
  {
   "cell_type": "code",
   "execution_count": 7,
   "metadata": {},
   "outputs": [
    {
     "data": {
      "text/html": [
       "<style>\n",
       ".list-inline {list-style: none; margin:0; padding: 0}\n",
       ".list-inline>li {display: inline-block}\n",
       ".list-inline>li:not(:last-child)::after {content: \"\\00b7\"; padding: 0 .5ex}\n",
       "</style>\n",
       "<ol class=list-inline><li>4</li><li>2</li><li>7</li><li>6</li><li>7</li><li>3</li><li>9</li><li>10</li><li>10</li><li>5</li></ol>\n"
      ],
      "text/latex": [
       "\\begin{enumerate*}\n",
       "\\item 4\n",
       "\\item 2\n",
       "\\item 7\n",
       "\\item 6\n",
       "\\item 7\n",
       "\\item 3\n",
       "\\item 9\n",
       "\\item 10\n",
       "\\item 10\n",
       "\\item 5\n",
       "\\end{enumerate*}\n"
      ],
      "text/markdown": [
       "1. 4\n",
       "2. 2\n",
       "3. 7\n",
       "4. 6\n",
       "5. 7\n",
       "6. 3\n",
       "7. 9\n",
       "8. 10\n",
       "9. 10\n",
       "10. 5\n",
       "\n",
       "\n"
      ],
      "text/plain": [
       " [1]  4  2  7  6  7  3  9 10 10  5"
      ]
     },
     "metadata": {},
     "output_type": "display_data"
    }
   ],
   "source": [
    "set.seed(123456789) # Set starting value for random number generator\n",
    "sample(10, replace=T) # Generate random bootstrap sample with replacement of size 10"
   ]
  },
  {
   "cell_type": "markdown",
   "metadata": {},
   "source": [
    "Each number represents an observation row in the data. You see that some observations are drawn several times and other observations are not drawn at all. For example, we observe two times observation 7 in the bootstrap sample, but observation 1 does not appear at all. In each draw, each observation hs the same probability to be drawn. The bootstrap sample should have the same sample size as the original sample ($N=1000$). "
   ]
  },
  {
   "cell_type": "markdown",
   "metadata": {},
   "source": [
    "Second, we have to estimate the ATE in the bootstrap sample. Then we draw a new random bootstrap sample and estimate the ATE again. To repeat these step many times, we can use a *for*-loop."
   ]
  },
  {
   "cell_type": "code",
   "execution_count": 8,
   "metadata": {},
   "outputs": [
    {
     "name": "stdout",
     "output_type": "stream",
     "text": [
      "[1] \"True Standard Error: 0.063\"\n",
      "[1] \"Estimated Standard Error: 0.066\"\n"
     ]
    }
   ],
   "source": [
    "########################  Bootstrapping  ########################\n",
    "\n",
    "set.seed(123456789) # Set starting value for random number generator\n",
    "boot <- matrix(NA, nrow=replications, ncol=1) # Define matrix to store ATEs\n",
    "\n",
    "for (rep in c(1:replications)) { # for-loop: cycles through all B replications (here 1000) \n",
    " \n",
    "    c <- sample(N, replace=T) # Generate random bootstrap sample with replacement of size N\n",
    "    boot[rep,] <- sum(Y[c]*D[c])/sum(D[c]) - sum(Y[c]*(1-D[c]))/sum(1-D[c]) # Calculate ATE using naive estimator\n",
    "    # I calculate the conditional average manually to make sure that the right observations are used \n",
    "    \n",
    "}\n",
    "\n",
    "print(paste0(\"True Standard Error: \", round(sqrt((vcm[1,1] + vcm[2,2]))/sqrt(sum(D)), digits=3)))\n",
    "print(paste0(\"Estimated Standard Error: \", round(sqrt(var(boot)), digits=3)))"
   ]
  },
  {
   "cell_type": "markdown",
   "metadata": {},
   "source": [
    "Note that in this simple example the OLS estimator provides equivalent results."
   ]
  },
  {
   "cell_type": "code",
   "execution_count": 9,
   "metadata": {},
   "outputs": [
    {
     "data": {
      "text/plain": [
       "\n",
       "Call:\n",
       "lm(formula = Y ~ D, data = as.data.frame(observed_data))\n",
       "\n",
       "Residuals:\n",
       "    Min      1Q  Median      3Q     Max \n",
       "-3.6321 -0.6966 -0.0064  0.7160  3.4792 \n",
       "\n",
       "Coefficients:\n",
       "            Estimate Std. Error t value Pr(>|t|)\n",
       "(Intercept) -0.04013    0.04622  -0.868    0.385\n",
       "D            0.01310    0.06536   0.200    0.841\n",
       "\n",
       "Residual standard error: 1.033 on 998 degrees of freedom\n",
       "Multiple R-squared:  4.027e-05,\tAdjusted R-squared:  -0.0009617 \n",
       "F-statistic: 0.0402 on 1 and 998 DF,  p-value: 0.8411\n"
      ]
     },
     "metadata": {},
     "output_type": "display_data"
    }
   ],
   "source": [
    "########################  OLS  ########################\n",
    "\n",
    "ols <- lm(Y~D, data = as.data.frame(observed_data))\n",
    "summary(ols)"
   ]
  },
  {
   "cell_type": "code",
   "execution_count": null,
   "metadata": {},
   "outputs": [],
   "source": []
  }
 ],
 "metadata": {
  "kernelspec": {
   "display_name": "R",
   "language": "R",
   "name": "ir"
  },
  "language_info": {
   "codemirror_mode": "r",
   "file_extension": ".r",
   "mimetype": "text/x-r-source",
   "name": "R",
   "pygments_lexer": "r",
   "version": "3.6.3"
  }
 },
 "nbformat": 4,
 "nbformat_minor": 2
}
