{
 "cells": [
  {
   "cell_type": "markdown",
   "metadata": {},
   "source": [
    "# **Weak Instruments**"
   ]
  },
  {
   "cell_type": "markdown",
   "metadata": {},
   "source": [
    "**Author:**\n",
    "[Anthony Strittmatter](http://www.anthonystrittmatter.com)"
   ]
  },
  {
   "cell_type": "markdown",
   "metadata": {},
   "source": [
    "In the following, we use a Monte-Carlo simulation to illustrate the bias of OLS under violations of the exclusion restriction and the vulnerability of IV when the first stage is weak. Because the data is artificial, we have control over the data generating process (DGP). Accordingly, we know the true underlying data model. "
   ]
  },
  {
   "cell_type": "markdown",
   "metadata": {},
   "source": [
    "## Load Packages"
   ]
  },
  {
   "cell_type": "code",
   "execution_count": 2,
   "metadata": {},
   "outputs": [
    {
     "name": "stdout",
     "output_type": "stream",
     "text": [
      "[1] \"All packages successfully installed and loaded.\"\n"
     ]
    }
   ],
   "source": [
    "########################  Load Packages  ########################\n",
    "\n",
    "# Load packages\n",
    "library(AER) # Used for IV regression\n",
    "library(ggplot2) # Used for density plot\n",
    "options(warn=-1) # supress warnings\n",
    "\n",
    "print('All packages successfully installed and loaded.')"
   ]
  },
  {
   "cell_type": "markdown",
   "metadata": {},
   "source": [
    "## Select Parameters for Data Generating Process (DGP)"
   ]
  },
  {
   "cell_type": "code",
   "execution_count": 26,
   "metadata": {},
   "outputs": [
    {
     "name": "stdout",
     "output_type": "stream",
     "text": [
      "[1] \"Tuning parameters selected.\"\n"
     ]
    }
   ],
   "source": [
    "########################  Tuning Parameter Selection  ########################\n",
    "\n",
    "N = 50 # Select sample size\n",
    "\n",
    "beta = 0.5 # Specify size of effect of D on Y\n",
    "\n",
    "bias_ols = 0.2 # Specify the size of the OLS bias\n",
    "\n",
    "F = 2 # Specify first stage F-statistic\n",
    "\n",
    "replications = 1000 # Select number of replications for Monte Carlo\n",
    "\n",
    "sigma_Z = 1 # Specify noise of the DGP\n",
    "\n",
    "print('Tuning parameters selected.')"
   ]
  },
  {
   "cell_type": "markdown",
   "metadata": {},
   "source": [
    "## First Stage Regresion"
   ]
  },
  {
   "cell_type": "markdown",
   "metadata": {},
   "source": [
    "We generate one random draw from our DGP and test the power of the first stage."
   ]
  },
  {
   "cell_type": "code",
   "execution_count": 40,
   "metadata": {},
   "outputs": [
    {
     "data": {
      "text/plain": [
       "\n",
       "Call:\n",
       "lm(formula = D ~ Z, data = as.data.frame(cbind(D, Z)))\n",
       "\n",
       "Residuals:\n",
       "     Min       1Q   Median       3Q      Max \n",
       "-11.9379  -2.9541  -0.1115   2.7223  11.7711 \n",
       "\n",
       "Coefficients:\n",
       "            Estimate Std. Error t value Pr(>|t|)\n",
       "(Intercept)   0.6966     0.7114   0.979    0.332\n",
       "Z             0.7608     0.6964   1.093    0.280\n",
       "\n",
       "Residual standard error: 5.025 on 48 degrees of freedom\n",
       "Multiple R-squared:  0.02427,\tAdjusted R-squared:  0.003938 \n",
       "F-statistic: 1.194 on 1 and 48 DF,  p-value: 0.28\n"
      ]
     },
     "metadata": {},
     "output_type": "display_data"
    },
    {
     "name": "stdout",
     "output_type": "stream",
     "text": [
      "[1] \"Empirical F-statistic: 1.19\"\n",
      "[1] \"True F-statistic: 2\"\n"
     ]
    }
   ],
   "source": [
    "## Data Generating Process ##\n",
    "\n",
    "set.seed(12345689) # Set starting values\n",
    "\n",
    "# Generate Instrument\n",
    "Z <- rnorm(n=N, mean = 0, sd =sigma_Z)  \n",
    "    \n",
    "# Generate Treatment\n",
    "sigma_D = sqrt((N-2)*sigma_Z^2/F) # Specify Variance of v\n",
    "v <- rnorm(n=N, mean = 0, sd =sigma_D)\n",
    "D <- Z + v\n",
    "\n",
    "# Generate Outcome\n",
    "frac  = bias_ols*(sigma_Z^2+sigma_D^2)/sigma_D^2\n",
    "Y = beta*D + frac*v + rnorm(n=N)\n",
    "\n",
    "## First Stage Regression ##\n",
    "\n",
    "#OLS regression\n",
    "first_stage <- lm(D ~ Z , data = as.data.frame(cbind(D,Z)))\n",
    "summary(first_stage)\n",
    "    \n",
    "# Empirical F-statistic\n",
    "F_emp = (N-2)*(first_stage$coefficient[2]^2*var(Z)/(var(D)))/(1-(first_stage$coefficient[2]^2*var(Z)/var(D)))\n",
    "print(paste0(\"Empirical F-statistic: \",round(F_emp, digits =2)))\n",
    "\n",
    "# Population F-statistic\n",
    "F_true = (N-2)*(sigma_Z^2/(sigma_D^2+sigma_Z^2))/(1-(sigma_Z^2/(sigma_D^2+sigma_Z^2)))\n",
    "print(paste0(\"True F-statistic: \",round(F_true, digits =2)))"
   ]
  },
  {
   "cell_type": "markdown",
   "metadata": {},
   "source": [
    "## OLS Regression of Y on D"
   ]
  },
  {
   "cell_type": "code",
   "execution_count": 21,
   "metadata": {},
   "outputs": [
    {
     "data": {
      "text/plain": [
       "\n",
       "Call:\n",
       "lm(formula = Y ~ D, data = as.data.frame(cbind(Y, D)))\n",
       "\n",
       "Residuals:\n",
       "    Min      1Q  Median      3Q     Max \n",
       "-2.4074 -0.7638 -0.2856  0.6918  2.8854 \n",
       "\n",
       "Coefficients:\n",
       "            Estimate Std. Error t value Pr(>|t|)    \n",
       "(Intercept)   0.1077     0.1715   0.628    0.533    \n",
       "D             0.7183     0.1659   4.329 7.56e-05 ***\n",
       "---\n",
       "Signif. codes:  0 ‘***’ 0.001 ‘**’ 0.01 ‘*’ 0.05 ‘.’ 0.1 ‘ ’ 1\n",
       "\n",
       "Residual standard error: 1.212 on 48 degrees of freedom\n",
       "Multiple R-squared:  0.2808,\tAdjusted R-squared:  0.2658 \n",
       "F-statistic: 18.74 on 1 and 48 DF,  p-value: 7.565e-05\n"
      ]
     },
     "metadata": {},
     "output_type": "display_data"
    }
   ],
   "source": [
    "## OLS ##\n",
    "\n",
    "ols <- lm(Y ~ D, data = as.data.frame(cbind(Y,D)))\n",
    "summary(ols) "
   ]
  },
  {
   "cell_type": "markdown",
   "metadata": {},
   "source": [
    "## IV Regression of Y on D (with Instrument Z)"
   ]
  },
  {
   "cell_type": "code",
   "execution_count": 22,
   "metadata": {},
   "outputs": [
    {
     "data": {
      "text/plain": [
       "\n",
       "Call:\n",
       "ivreg(formula = Y ~ D | Z, data = as.data.frame(cbind(Y, D, Z)))\n",
       "\n",
       "Residuals:\n",
       "    Min      1Q  Median      3Q     Max \n",
       "-2.3444 -0.8475 -0.2522  0.7339  3.0228 \n",
       "\n",
       "Coefficients:\n",
       "            Estimate Std. Error t value Pr(>|t|)   \n",
       "(Intercept)   0.1050     0.1738   0.604  0.54865   \n",
       "D             0.5296     0.1721   3.077  0.00345 **\n",
       "---\n",
       "Signif. codes:  0 ‘***’ 0.001 ‘**’ 0.01 ‘*’ 0.05 ‘.’ 0.1 ‘ ’ 1\n",
       "\n",
       "Residual standard error: 1.229 on 48 degrees of freedom\n",
       "Multiple R-Squared: 0.2614,\tAdjusted R-squared: 0.2461 \n",
       "Wald test:  9.47 on 1 and 48 DF,  p-value: 0.003446 \n"
      ]
     },
     "metadata": {},
     "output_type": "display_data"
    }
   ],
   "source": [
    "## IV ##\n",
    "\n",
    "iv <- ivreg(formula = Y ~ D | Z, data = as.data.frame(cbind(Y,D,Z)))\n",
    "summary(iv)"
   ]
  },
  {
   "cell_type": "markdown",
   "metadata": {},
   "source": [
    "## Monte Carlo Simulation"
   ]
  },
  {
   "cell_type": "markdown",
   "metadata": {},
   "source": [
    "Up to now, we generated only one random draw of the DGP and estimated the parameters of interst in this sample. But are the biases that we found systematic or did they occur just by chance? To answer this, we take many independent random draws of the DGP and estimate the parameters of interest in each sample. Afterwards, we can compare the distributions of the parameters, which gives us information about the finite sample properties of the estimators."
   ]
  },
  {
   "cell_type": "code",
   "execution_count": 41,
   "metadata": {},
   "outputs": [
    {
     "data": {
      "image/png": "[encoded data removed]",
      "text/plain": [
       "plot without title"
      ]
     },
     "metadata": {
      "image/png": {
       "height": 420,
       "width": 420
      },
      "text/plain": {
       "height": 420,
       "width": 420
      }
     },
     "output_type": "display_data"
    }
   ],
   "source": [
    "####### Monte Carlo Simulation #######\n",
    "\n",
    "set.seed(123456789) # Set starting value\n",
    "\n",
    "# Generate matrix to store results\n",
    "effect <- matrix(NA, nrow = replications, ncol = 2)\n",
    "colnames(effect) <- c(\"ols\", \"iv\")\n",
    "\n",
    "for (r in c(1:replications)) {\n",
    "    \n",
    "    ## Data Generating Process ##\n",
    "    \n",
    "    # Generate Instrument\n",
    "    Z <- rnorm(n=N, mean = 0, sd =sigma_Z)  \n",
    "    \n",
    "    # Generate Treatment\n",
    "    sigma_D = sqrt((F+N-2)*sigma_Z/F -sigma_Z) \n",
    "    v <- rnorm(n=N, mean = 0, sd =sigma_D)\n",
    "    D <-  Z + v\n",
    "    \n",
    "    # Generate Outcome\n",
    "    frac  = bias_ols*(sigma_Z^2+sigma_D^2)/sigma_D^2\n",
    "    Y = beta*D + frac*v + rnorm(n=N)\n",
    "    \n",
    "    ## Estimation ##\n",
    "    \n",
    "    # OLS\n",
    "    ols <- lm(Y ~ D, data = as.data.frame(cbind(Y,D)))\n",
    "    effect[r,1] <- ols$coefficients[2] \n",
    "    \n",
    "    # IV\n",
    "    iv <- ivreg(formula = Y ~ D | Z, data = as.data.frame(cbind(Y,D,Z)))\n",
    "    effect[r,2] <-iv$coefficients[2] \n",
    "}\n",
    "\n",
    "# Density plot\n",
    "dat <- data.frame(estimator = factor(rep(c(\"ols\",\"iv\"), each=replications)),\n",
    "                effect = rbind(as.matrix(effect[,1]),as.matrix(effect[,2])))\n",
    "ggplot(dat, aes(x=effect, colour=estimator)) + geom_density() + xlim((beta-1.5),(beta+1.5)) +\n",
    "                geom_vline(xintercept = beta, color = \"green\") +\n",
    "                geom_vline(xintercept = (beta+bias_ols), color = \"blue\")\n"
   ]
  },
  {
   "cell_type": "markdown",
   "metadata": {},
   "source": [
    "Now go back to the snipplet were we specified the tuning parameters. You can play around with the tuning parameters and look at the finite sample performance of OLS and IV. For example, how does the finite sample performance of IV change when we increase the power of the first stage? Let's set $F= 10000$"
   ]
  },
  {
   "cell_type": "code",
   "execution_count": null,
   "metadata": {},
   "outputs": [],
   "source": []
  }
 ],
 "metadata": {
  "kernelspec": {
   "display_name": "R",
   "language": "R",
   "name": "ir"
  },
  "language_info": {
   "codemirror_mode": "r",
   "file_extension": ".r",
   "mimetype": "text/x-r-source",
   "name": "R",
   "pygments_lexer": "r",
   "version": "3.6.3"
  }
 },
 "nbformat": 4,
 "nbformat_minor": 2
}
