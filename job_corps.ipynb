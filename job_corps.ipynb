{
 "cells": [
  {
   "cell_type": "markdown",
   "metadata": {},
   "source": [
    "# **Job Corps Programme**"
   ]
  },
  {
   "cell_type": "markdown",
   "metadata": {},
   "source": [
    "**Author:**\n",
    "[Anthony Strittmatter](http://www.anthonystrittmatter.com)"
   ]
  },
  {
   "cell_type": "markdown",
   "metadata": {},
   "source": [
    "The Job Corps is the largest U.S. labor market program targeting disadvantaged youths.\n",
    "It provides academic, vocational, and social training, as well as health care counseling and job\n",
    "search assistance, for an average duration of eight to nine months. Mathematica Policy Research carried out a randomized experiment with the Job Corps. About 60% of the experimental participants were randomly selected to receive an offer to participate in the Job Corps. Out of these, 73\\% joined the Job Corps program and\n",
    "actually started to participate after an average duration of 1.4 months. The remaining experimental participants were assigned to the control group. Control group members were not eligible for the\n",
    "Job Corps programs for three years following randomization (approximately 1\\% participated\n",
    "anyway).\n",
    "\n",
    "We estimate the effects of receiving an offer to participate in the Job Corps on earnings fours years after the randomisation. We have access to 10,516 observations from the experimental Job Corps data.\n",
    "\n",
    "**Variable list**\n",
    "\n",
    "Outcome:\n",
    "+ **EARNY**: Earnings per week in Year 4\n",
    "\n",
    "Instrument:\n",
    "+ **assignment**: Offer to join Job Corps\n",
    "\n",
    "Treatment:\n",
    "+ **participation**: Actual participation in Job Corps\n",
    "\n",
    "Covariates (all dummies):\n",
    "+ **female**: Dummy for females\n",
    "+ **age_1**: Aged between 16-17 years\n",
    "+ **age_2**: Aged between 18-19 years (omitted category)\n",
    "+ **age_3**: Aged between 20-24 ye\n",
    "+ **ed0_6**: 0-6 months education program in last year\n",
    "+ **ed6_12**: 6-12 months education program in last yea\n",
    "+ **hs_ged**: High school or GED credential\n",
    "+ **white**: Dummy for white (omitted category)\n",
    "+ **black**: Dummy for African-American\n",
    "+ **hisp**: Dummy for Hispanics\n",
    "+ **oth_eth**: Dummy for other ethnicity\n",
    "+ **haschld**: Dummy for parents\n",
    "+ **livespou**: Lives with spouse or partner\n",
    "+ **everwork**: Ever had job for two weeks or more\n",
    "+ **yr_work**: Worked in year prior to random assignment\n",
    "+ **currjob**: Has job at random assignment\n",
    "+ **job0_3**: Below 3 months employed in last year\n",
    "+ **job3_9**: 3-9 months employed in last year\n",
    "+ **job9_12**: 9-12 months employed in last year\n",
    "+ **earn1**: Yearly earnings less than \\$1,000\n",
    "+ **earn2**: Yearly earnings \\$1,000-5,000\n",
    "+ **earn3**: Yearly earnings \\$5,000-10,000\n",
    "+ **earn4**: Yearly earnings above \\$10,000\n",
    "+ **badhlth**: Dummy for bad healt\n",
    "+ **welf_kid**: Family on welfare when growing up\n",
    "+ **got_fs**: Received food stamps in last year\n",
    "+ **publich**: Public or rent-subsidized housing\n",
    "+ **got_afdc**: Received AFDC in last year\n",
    "+ **harduse**: Used hard drugs in last year\n",
    "+ **potuse**: Smoked marijuana in last year\n",
    "+ **evarrst**: Ever arrested dummy\n",
    "+ **pmsa**: Lives in PMSA\n",
    "+ **msa**: Lives in MSA"
   ]
  },
  {
   "cell_type": "markdown",
   "metadata": {},
   "source": [
    "## Load Packages"
   ]
  },
  {
   "cell_type": "code",
   "execution_count": 20,
   "metadata": {},
   "outputs": [
    {
     "name": "stdout",
     "output_type": "stream",
     "text": [
      "[1] \"All packages successfully installed and loaded.\"\n"
     ]
    }
   ],
   "source": [
    "########################  Load Packages  ########################\n",
    "\n",
    "# List of required packages\n",
    "pkgs <- c('fBasics', 'glmnet', 'dplyr', 'AER')\n",
    "\n",
    "# Load packages\n",
    "for(pkg in pkgs){\n",
    "    library(pkg, character.only = TRUE)\n",
    "}\n",
    "\n",
    "print('All packages successfully installed and loaded.')"
   ]
  },
  {
   "cell_type": "markdown",
   "metadata": {},
   "source": [
    "## Load Data"
   ]
  },
  {
   "cell_type": "code",
   "execution_count": 21,
   "metadata": {},
   "outputs": [
    {
     "name": "stdout",
     "output_type": "stream",
     "text": [
      "[1] \"Data successfully loaded.\"\n"
     ]
    }
   ],
   "source": [
    "########################  Load Data Frame  ########################\n",
    "#set.seed(100239) # set starting value for random number generator\n",
    "\n",
    "# Load data frame\n",
    "df <- read.csv(\"Data/job_corps.csv\",header=TRUE, sep=\",\")\n",
    "df <- df[,-c(6,11)] # delete omitted categories\n",
    "\n",
    "print('Data successfully loaded.')"
   ]
  },
  {
   "cell_type": "markdown",
   "metadata": {},
   "source": [
    "## Means and Standard Deviations"
   ]
  },
  {
   "cell_type": "code",
   "execution_count": 22,
   "metadata": {},
   "outputs": [
    {
     "name": "stdout",
     "output_type": "stream",
     "text": [
      "                Mean  Stdev Minimum Maximum  nobs\n",
      "EARNY4        204.44 195.69       0 2409.91 10516\n",
      "assignment      0.60   0.49       0    1.00 10516\n",
      "participation   0.44   0.50       0    1.00 10516\n",
      "female          0.43   0.49       0    1.00 10516\n",
      "age_1           0.41   0.49       0    1.00 10516\n",
      "age_3           0.27   0.45       0    1.00 10516\n",
      "ed0_6           0.26   0.44       0    1.00 10516\n",
      "ed6_12          0.36   0.48       0    1.00 10516\n",
      "hs_ged          0.24   0.43       0    1.00 10516\n",
      "black           0.49   0.50       0    1.00 10516\n",
      "hisp            0.17   0.38       0    1.00 10516\n",
      "oth_eth         0.07   0.26       0    1.00 10516\n",
      "haschld         0.20   0.40       0    1.00 10516\n",
      "livespou        0.06   0.24       0    1.00 10516\n",
      "everwork        0.80   0.40       0    1.00 10516\n",
      "yr_work         0.64   0.48       0    1.00 10516\n",
      "currjob         0.21   0.40       0    1.00 10516\n",
      "job0_3          0.22   0.41       0    1.00 10516\n",
      "job3_9          0.30   0.46       0    1.00 10516\n",
      "job9_12         0.21   0.41       0    1.00 10516\n",
      "earn1           0.11   0.31       0    1.00 10516\n",
      "earn2           0.27   0.44       0    1.00 10516\n",
      "earn3           0.14   0.34       0    1.00 10516\n",
      "earn4           0.07   0.25       0    1.00 10516\n",
      "badhlth         0.13   0.34       0    1.00 10516\n",
      "welf_kid        0.20   0.40       0    1.00 10516\n",
      "got_fs          0.45   0.50       0    1.00 10516\n",
      "publich         0.22   0.41       0    1.00 10516\n",
      "got_afdc        0.31   0.46       0    1.00 10516\n",
      "harduse         0.06   0.24       0    1.00 10516\n",
      "potuse          0.24   0.43       0    1.00 10516\n",
      "evarrst         0.24   0.43       0    1.00 10516\n",
      "pmsa            0.32   0.47       0    1.00 10516\n",
      "msa             0.47   0.50       0    1.00 10516\n"
     ]
    }
   ],
   "source": [
    "########################  Table with Descriptive Statistics  ########################\n",
    "desc <- fBasics::basicStats(df) %>% t() %>% as.data.frame() %>% \n",
    "  select(Mean, Stdev, Minimum, Maximum, nobs)\n",
    "print(round(desc, digits=2))"
   ]
  },
  {
   "cell_type": "markdown",
   "metadata": {},
   "source": [
    "## Unconditional OLS regression"
   ]
  },
  {
   "cell_type": "code",
   "execution_count": 23,
   "metadata": {},
   "outputs": [
    {
     "data": {
      "text/plain": [
       "\n",
       "Call:\n",
       "lm(formula = EARNY4 ~ participation, data = df)\n",
       "\n",
       "Residuals:\n",
       "    Min      1Q  Median      3Q     Max \n",
       "-211.44 -168.41  -25.03  101.08 2210.97 \n",
       "\n",
       "Coefficients:\n",
       "              Estimate Std. Error t value Pr(>|t|)    \n",
       "(Intercept)    198.936      2.550  78.023  < 2e-16 ***\n",
       "participation   12.503      3.842   3.254  0.00114 ** \n",
       "---\n",
       "Signif. codes:  0 ‘***’ 0.001 ‘**’ 0.01 ‘*’ 0.05 ‘.’ 0.1 ‘ ’ 1\n",
       "\n",
       "Residual standard error: 195.6 on 10514 degrees of freedom\n",
       "Multiple R-squared:  0.001006,\tAdjusted R-squared:  0.0009111 \n",
       "F-statistic: 10.59 on 1 and 10514 DF,  p-value: 0.001141\n"
      ]
     },
     "metadata": {},
     "output_type": "display_data"
    }
   ],
   "source": [
    "### Unconditional OLS Regression ###\n",
    "\n",
    "ols <- lm(EARNY4 ~ participation, data = df)\n",
    "summary(ols)"
   ]
  },
  {
   "cell_type": "markdown",
   "metadata": {},
   "source": [
    "Results suggest that participation in Job Corps increases weekly earnings by 12.50 US-dollars. Possibly we have selection bias, because experimental participants with an offer can self-select into actual participation."
   ]
  },
  {
   "cell_type": "markdown",
   "metadata": {},
   "source": [
    "## Conditional OLS Regression"
   ]
  },
  {
   "cell_type": "code",
   "execution_count": 24,
   "metadata": {},
   "outputs": [
    {
     "data": {
      "text/plain": [
       "\n",
       "Call:\n",
       "lm(formula = EARNY4 ~ ., data = df[, -2])\n",
       "\n",
       "Residuals:\n",
       "    Min      1Q  Median      3Q     Max \n",
       "-384.12 -131.53  -19.42   91.17 2192.45 \n",
       "\n",
       "Coefficients:\n",
       "              Estimate Std. Error t value Pr(>|t|)    \n",
       "(Intercept)   195.6631     8.0832  24.206  < 2e-16 ***\n",
       "participation  15.3066     3.6442   4.200 2.69e-05 ***\n",
       "female        -62.4533     3.9727 -15.721  < 2e-16 ***\n",
       "age_1          -4.4015     4.6782  -0.941 0.346800    \n",
       "age_3           8.7360     5.1515   1.696 0.089949 .  \n",
       "ed0_6           9.2106     4.7476   1.940 0.052401 .  \n",
       "ed6_12         12.1485     4.7915   2.535 0.011245 *  \n",
       "hs_ged         29.1206     4.8865   5.959 2.61e-09 ***\n",
       "black         -56.6921     4.8168 -11.770  < 2e-16 ***\n",
       "hisp          -30.9087     5.8729  -5.263 1.45e-07 ***\n",
       "oth_eth       -27.9901     7.7033  -3.634 0.000281 ***\n",
       "haschld        12.4896     5.2846   2.363 0.018128 *  \n",
       "livespou       -3.6477     7.6944  -0.474 0.635460    \n",
       "everwork       12.6284     6.2326   2.026 0.042772 *  \n",
       "yr_work        48.8374    18.8067   2.597 0.009423 ** \n",
       "currjob        15.3231     5.1299   2.987 0.002824 ** \n",
       "job0_3        -10.3749     8.5811  -1.209 0.226677    \n",
       "job3_9         -3.9411     8.0264  -0.491 0.623428    \n",
       "job9_12         6.3966     8.7410   0.732 0.464311    \n",
       "earn1         -23.9819    13.7308  -1.747 0.080740 .  \n",
       "earn2           0.2831    12.4101   0.023 0.981802    \n",
       "earn3          20.5315    12.8472   1.598 0.110044    \n",
       "earn4          58.9860    14.1347   4.173 3.03e-05 ***\n",
       "badhlth       -14.8808     5.3718  -2.770 0.005613 ** \n",
       "welf_kid      -10.5030     4.8908  -2.148 0.031775 *  \n",
       "got_fs         -5.9449     4.5423  -1.309 0.190635    \n",
       "publich        -9.0327     4.6276  -1.952 0.050978 .  \n",
       "got_afdc        3.6500     4.9848   0.732 0.464052    \n",
       "harduse        -7.4088     7.8538  -0.943 0.345533    \n",
       "potuse        -16.0261     4.3650  -3.672 0.000242 ***\n",
       "evarrst       -14.1231     4.3746  -3.228 0.001248 ** \n",
       "pmsa           28.3566     5.2808   5.370 8.05e-08 ***\n",
       "msa            14.9625     4.8244   3.101 0.001931 ** \n",
       "---\n",
       "Signif. codes:  0 ‘***’ 0.001 ‘**’ 0.01 ‘*’ 0.05 ‘.’ 0.1 ‘ ’ 1\n",
       "\n",
       "Residual standard error: 184.9 on 10483 degrees of freedom\n",
       "Multiple R-squared:  0.1095,\tAdjusted R-squared:  0.1068 \n",
       "F-statistic: 40.28 on 32 and 10483 DF,  p-value: < 2.2e-16\n"
      ]
     },
     "metadata": {},
     "output_type": "display_data"
    }
   ],
   "source": [
    "### Conditional OLS Regression ###\n",
    "\n",
    "ols <- lm(EARNY4 ~ ., data = df[,-2])\n",
    "summary(ols)"
   ]
  },
  {
   "cell_type": "markdown",
   "metadata": {},
   "source": [
    "Results suggest that participation in Job Corps increases weekly earnings by 15.31 US-dollars. This suggests the unconditional OLS estimates are negatively biased. But is controlling for observable characteristics sufficient to eliminate the entire selection bias of OLS?"
   ]
  },
  {
   "cell_type": "markdown",
   "metadata": {},
   "source": [
    "## Unconditional Instrumental Variable Approach"
   ]
  },
  {
   "cell_type": "code",
   "execution_count": 19,
   "metadata": {},
   "outputs": [
    {
     "data": {
      "text/plain": [
       "\n",
       "Call:\n",
       "ivreg(formula = EARNY4 ~ participation | assignment, data = df)\n",
       "\n",
       "Residuals:\n",
       "    Min      1Q  Median      3Q     Max \n",
       "-213.84 -168.37  -23.14  100.57 2212.87 \n",
       "\n",
       "Coefficients:\n",
       "              Estimate Std. Error t value Pr(>|t|)    \n",
       "(Intercept)    197.042      3.058  64.434  < 2e-16 ***\n",
       "participation   16.803      5.428   3.096  0.00197 ** \n",
       "---\n",
       "Signif. codes:  0 ‘***’ 0.001 ‘**’ 0.01 ‘*’ 0.05 ‘.’ 0.1 ‘ ’ 1\n",
       "\n",
       "Residual standard error: 195.6 on 10514 degrees of freedom\n",
       "Multiple R-Squared: 0.0008871,\tAdjusted R-squared: 0.0007921 \n",
       "Wald test: 9.584 on 1 and 10514 DF,  p-value: 0.001968 \n"
      ]
     },
     "metadata": {},
     "output_type": "display_data"
    }
   ],
   "source": [
    "### Unconditional IV Regression ###\n",
    "\n",
    "iv <- ivreg(formula = EARNY4 ~ participation | assignment, data = df)\n",
    "summary(iv)"
   ]
  },
  {
   "cell_type": "markdown",
   "metadata": {},
   "source": [
    "Results suggest that participation in Job Corps increases weekly earnings by 16.80 US-dollars. Accordingly, even the conditional OLS results are negatively biased."
   ]
  },
  {
   "cell_type": "markdown",
   "metadata": {},
   "source": [
    "## Conditional Instrumental Variable Approach"
   ]
  },
  {
   "cell_type": "code",
   "execution_count": 28,
   "metadata": {},
   "outputs": [
    {
     "data": {
      "text/plain": [
       "\n",
       "Call:\n",
       "ivreg(formula = EARNY4 ~ participation + female + age_1 + age_3 + \n",
       "    ed0_6 + ed6_12 + hs_ged + black + hisp + oth_eth + haschld + \n",
       "    livespou + everwork + yr_work + currjob + job0_3 + job3_9 + \n",
       "    job9_12 + earn1 + earn2 + earn3 + earn4 + badhlth + welf_kid + \n",
       "    got_fs + publich + got_afdc + harduse + potuse + evarrst + \n",
       "    pmsa + msa | assignment + female + age_1 + age_3 + ed0_6 + \n",
       "    ed6_12 + hs_ged + black + hisp + oth_eth + haschld + livespou + \n",
       "    everwork + yr_work + currjob + job0_3 + job3_9 + job9_12 + \n",
       "    earn1 + earn2 + earn3 + earn4 + badhlth + welf_kid + got_fs + \n",
       "    publich + got_afdc + harduse + potuse + evarrst + pmsa + \n",
       "    msa, data = df)\n",
       "\n",
       "Residuals:\n",
       "    Min      1Q  Median      3Q     Max \n",
       "-387.80 -131.21  -20.11   91.28 2195.40 \n",
       "\n",
       "Coefficients:\n",
       "              Estimate Std. Error t value Pr(>|t|)    \n",
       "(Intercept)   192.8675     8.2348  23.421  < 2e-16 ***\n",
       "participation  21.7253     5.1204   4.243 2.23e-05 ***\n",
       "female        -62.5575     3.9737 -15.743  < 2e-16 ***\n",
       "age_1          -4.5633     4.6798  -0.975 0.329526    \n",
       "age_3           8.7030     5.1523   1.689 0.091218 .  \n",
       "ed0_6           9.1694     4.7484   1.931 0.053503 .  \n",
       "ed6_12         12.1373     4.7922   2.533 0.011333 *  \n",
       "hs_ged         29.2655     4.8879   5.987 2.20e-09 ***\n",
       "black         -56.7572     4.8176 -11.781  < 2e-16 ***\n",
       "hisp          -30.9665     5.8739  -5.272 1.38e-07 ***\n",
       "oth_eth       -28.0760     7.7046  -3.644 0.000270 ***\n",
       "haschld        12.5946     5.2858   2.383 0.017202 *  \n",
       "livespou       -3.1630     7.7004  -0.411 0.681254    \n",
       "everwork       12.6329     6.2336   2.027 0.042729 *  \n",
       "yr_work        49.0217    18.8097   2.606 0.009169 ** \n",
       "currjob        15.2658     5.1307   2.975 0.002933 ** \n",
       "job0_3        -10.3788     8.5824  -1.209 0.226574    \n",
       "job3_9         -4.0325     8.0278  -0.502 0.615455    \n",
       "job9_12         6.3056     8.7424   0.721 0.470765    \n",
       "earn1         -24.1315    13.7331  -1.757 0.078916 .  \n",
       "earn2           0.0968    12.4124   0.008 0.993778    \n",
       "earn3          20.4601    12.8492   1.592 0.111340    \n",
       "earn4          58.9995    14.1368   4.173 3.02e-05 ***\n",
       "badhlth       -14.6849     5.3737  -2.733 0.006292 ** \n",
       "welf_kid      -10.5010     4.8915  -2.147 0.031832 *  \n",
       "got_fs         -5.8202     4.5435  -1.281 0.200221    \n",
       "publich        -9.2108     4.6294  -1.990 0.046657 *  \n",
       "got_afdc        3.6532     4.9855   0.733 0.463727    \n",
       "harduse        -7.5798     7.8556  -0.965 0.334621    \n",
       "potuse        -16.0991     4.3658  -3.688 0.000228 ***\n",
       "evarrst       -13.8888     4.3772  -3.173 0.001513 ** \n",
       "pmsa           28.3726     5.2816   5.372 7.95e-08 ***\n",
       "msa            14.9629     4.8251   3.101 0.001934 ** \n",
       "---\n",
       "Signif. codes:  0 ‘***’ 0.001 ‘**’ 0.01 ‘*’ 0.05 ‘.’ 0.1 ‘ ’ 1\n",
       "\n",
       "Residual standard error: 185 on 10483 degrees of freedom\n",
       "Multiple R-Squared: 0.1092,\tAdjusted R-squared: 0.1065 \n",
       "Wald test: 40.28 on 32 and 10483 DF,  p-value: < 2.2e-16 \n"
      ]
     },
     "metadata": {},
     "output_type": "display_data"
    }
   ],
   "source": [
    "### Conditional IV Regression ###\n",
    "\n",
    "iv <- ivreg(formula = EARNY4 ~ participation + female + age_1 + age_3 + ed0_6 + ed6_12 + hs_ged + black + hisp + oth_eth + haschld + livespou + everwork + yr_work + currjob + job0_3 + job3_9 + job9_12 + earn1 + earn2 + earn3 + earn4 + badhlth + welf_kid + got_fs + publich + got_afdc + harduse + potuse + evarrst + pmsa + msa | assignment + female + age_1 + age_3 + ed0_6 + ed6_12 + hs_ged + black + hisp + oth_eth + haschld + livespou + everwork + yr_work + currjob + job0_3 + job3_9 + job9_12 + earn1 + earn2 + earn3 + earn4 + badhlth + welf_kid + got_fs + publich + got_afdc + harduse + potuse + evarrst + pmsa + msa, data = df)\n",
    "summary(iv)"
   ]
  },
  {
   "cell_type": "markdown",
   "metadata": {},
   "source": [
    "Results suggest that participation in Job Corps increases weekly earnings by 21.73 US-dollars. This suggest the instrument is confounded by the observed characteristics (and possibly also unobserved characteristics). It seems that the randomisation did not work approriately. This might be an explanation why 1\\% of the experimental participants could participate in Job Corps without an offer to participate."
   ]
  }
 ],
 "metadata": {
  "kernelspec": {
   "display_name": "R",
   "language": "R",
   "name": "ir"
  },
  "language_info": {
   "codemirror_mode": "r",
   "file_extension": ".r",
   "mimetype": "text/x-r-source",
   "name": "R",
   "pygments_lexer": "r",
   "version": "3.6.3"
  }
 },
 "nbformat": 4,
 "nbformat_minor": 2
}
