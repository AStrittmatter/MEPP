{
 "cells": [
  {
   "cell_type": "markdown",
   "metadata": {},
   "source": [
    "# CES Lecture"
   ]
  },
  {
   "cell_type": "markdown",
   "metadata": {},
   "source": [
    "# **Causal Machine Learning**"
   ]
  },
  {
   "cell_type": "markdown",
   "metadata": {},
   "source": [
    "**Author:**\n",
    "[Anthony Strittmatter](http://www.anthonystrittmatter.com)"
   ]
  },
  {
   "cell_type": "markdown",
   "metadata": {},
   "source": [
    "## Job Corps Program"
   ]
  },
  {
   "cell_type": "markdown",
   "metadata": {},
   "source": [
    "The Job Corps is the largest U.S. labor market program targeting disadvantaged youths.\n",
    "It provides academic, vocational, and social training, as well as health care counseling and job\n",
    "search assistance, for an average duration of eight to nine months. Mathematica Policy Research carried out a randomized experiment with the Job Corps. About 60% of the experimental participants were randomly selected to receive an offer to participate in the Job Corps. Out of these, 73\\% joined the Job Corps program and\n",
    "actually started to participate after an average duration of 1.4 months. The remaining experimental participants were assigned to the control group. Control group members were not eligible for the\n",
    "Job Corps programs for three years following randomization (approximately 1\\% participated\n",
    "anyway).\n",
    "\n",
    "We estimate the effects of receiving an offer to participate in the Job Corps on earnings fours years after the randomisation. We have access to 10,516 observations from the experimental Job Corps data.\n",
    "\n",
    "**Variable list**\n",
    "\n",
    "Outcome:\n",
    "+ **EARNY**: Earnings per week in Year 4\n",
    "\n",
    "Treatments:\n",
    "+ **assignment**: Offer to join Job Corps\n",
    "+ **participation**: Actual participation in Job Corps\n",
    "\n",
    "Covariates (all dummies):\n",
    "+ **female**: Dummy for females\n",
    "+ **age_1**: Aged between 16-17 years\n",
    "+ **age_2**: Aged between 18-19 years\n",
    "+ **age_3**: Aged between 20-24 ye\n",
    "+ **ed0_6**: 0-6 months education program in last year\n",
    "+ **ed6_12**: 6-12 months education program in last yea\n",
    "+ **hs_ged**: High school or GED credential\n",
    "+ **white**: Dummy for white\n",
    "+ **black**: Dummy for African-American\n",
    "+ **hisp**: Dummy for Hispanics\n",
    "+ **oth_eth**: Dummy for other ethnicity\n",
    "+ **haschld**: Dummy for parents\n",
    "+ **livespou**: Lives with spouse or partner\n",
    "+ **everwork**: Ever had job for two weeks or more\n",
    "+ **yr_work**: Worked in year prior to random assignment\n",
    "+ **currjob**: Has job at random assignment\n",
    "+ **job0_3**: Below 3 months employed in last year\n",
    "+ **job3_9**: 3-9 months employed in last year\n",
    "+ **job9_12**: 9-12 months employed in last year\n",
    "+ **earn1**: Yearly earnings less than \\$1,000\n",
    "+ **earn2**: Yearly earnings \\$1,000-5,000\n",
    "+ **earn3**: Yearly earnings \\$5,000-10,000\n",
    "+ **earn4**: Yearly earnings above \\$10,000\n",
    "+ **badhlth**: Dummy for bad healt\n",
    "+ **welf_kid**: Family on welfare when growing up\n",
    "+ **got_fs**: Received food stamps in last year\n",
    "+ **publich**: Public or rent-subsidized housing\n",
    "+ **got_afdc**: Received AFDC in last year\n",
    "+ **harduse**: Used hard drugs in last year\n",
    "+ **potuse**: Smoked marijuana in last year\n",
    "+ **evarrst**: Ever arrested dummy\n",
    "+ **pmsa**: Lives in PMSA\n",
    "+ **msa**: Lives in MSA"
   ]
  },
  {
   "cell_type": "markdown",
   "metadata": {},
   "source": [
    "## Load Packages"
   ]
  },
  {
   "cell_type": "code",
   "execution_count": 20,
   "metadata": {},
   "outputs": [
    {
     "ename": "ERROR",
     "evalue": "Error in library(pkg, character.only = TRUE): there is no package called ‘AER’\n",
     "output_type": "error",
     "traceback": [
      "Error in library(pkg, character.only = TRUE): there is no package called ‘AER’\nTraceback:\n",
      "1. library(pkg, character.only = TRUE)"
     ]
    }
   ],
   "source": [
    "########################  Load Packages  ########################\n",
    "\n",
    "# List of required packages\n",
    "pkgs <- c('fBasics', 'glmnet', 'dplyr', 'AER')\n",
    "\n",
    "# Load packages\n",
    "for(pkg in pkgs){\n",
    "    library(pkg, character.only = TRUE)\n",
    "}\n",
    "\n",
    "print('All packages successfully installed and loaded.')"
   ]
  },
  {
   "cell_type": "markdown",
   "metadata": {},
   "source": [
    "## Load Data"
   ]
  },
  {
   "cell_type": "markdown",
   "metadata": {},
   "source": [
    "## Means and Standard Deviations"
   ]
  },
  {
   "cell_type": "markdown",
   "metadata": {},
   "source": [
    "## Prepare Data"
   ]
  },
  {
   "cell_type": "markdown",
   "metadata": {},
   "source": [
    "# Nuisance Parameters"
   ]
  },
  {
   "cell_type": "markdown",
   "metadata": {},
   "source": [
    "We use Lasso to estimate the nuisance parameters."
   ]
  },
  {
   "cell_type": "markdown",
   "metadata": {},
   "source": [
    "### Conditional Potential Outcomes under Non-Treatment"
   ]
  },
  {
   "cell_type": "markdown",
   "metadata": {},
   "source": [
    "### Propensity Score"
   ]
  },
  {
   "cell_type": "markdown",
   "metadata": {},
   "source": [
    "We use a Logit-Lasso to estimate the propensity score."
   ]
  },
  {
   "cell_type": "markdown",
   "metadata": {},
   "source": [
    "# Double Machine Learning"
   ]
  },
  {
   "cell_type": "markdown",
   "metadata": {},
   "source": [
    "### Average Treatment Effects on Treated (ATETs)"
   ]
  },
  {
   "cell_type": "markdown",
   "metadata": {},
   "source": [
    "We use the double machine learning approach to estimate ATETs."
   ]
  },
  {
   "cell_type": "markdown",
   "metadata": {},
   "source": [
    "### Compare results with OLS"
   ]
  },
  {
   "cell_type": "markdown",
   "metadata": {},
   "source": [
    "### Compare results with IV"
   ]
  },
  {
   "cell_type": "markdown",
   "metadata": {},
   "source": [
    "# Exercises"
   ]
  },
  {
   "cell_type": "markdown",
   "metadata": {},
   "source": [
    "1. Estimate the ATET of the offer to participate in Job Corps."
   ]
  },
  {
   "cell_type": "markdown",
   "metadata": {},
   "source": [
    "2. Estimate the ATE of the offer and actual participation in Job Corps."
   ]
  },
  {
   "cell_type": "markdown",
   "metadata": {},
   "source": [
    "3. Estimate the LATE with double machine learning."
   ]
  },
  {
   "cell_type": "code",
   "execution_count": 10,
   "metadata": {},
   "outputs": [],
   "source": [
    "###### Put Your Code Here ######\n",
    "\n",
    "\n",
    "\n",
    "\n",
    "\n",
    "\n",
    "\n",
    "################################"
   ]
  }
 ],
 "metadata": {
  "kernelspec": {
   "display_name": "R",
   "language": "R",
   "name": "ir"
  },
  "language_info": {
   "codemirror_mode": "r",
   "file_extension": ".r",
   "mimetype": "text/x-r-source",
   "name": "R",
   "pygments_lexer": "r",
   "version": "3.6.2"
  }
 },
 "nbformat": 4,
 "nbformat_minor": 2
}
